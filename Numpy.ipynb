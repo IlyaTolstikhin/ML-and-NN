{
 "cells": [
  {
   "cell_type": "markdown",
   "metadata": {},
   "source": [
    "Сроки сдачи лабораторных работ весна 2021/22 у.г.:\n",
    "    \n",
    "    Лабораторная работа 1 (разбор задания 1) - 17.02.22 и 19.02.22 - сдача до 17.03.22 и 19.03.22\n",
    "    Лабораторная работа 2 (разбор задания 2) - 17.03.22 и 19.03.22 - сдача до 14.04.22 и 16.04.22 \n",
    "    Лабораторная работа 3 (разбор задания 3) - 14.04.22 и 16.04.22 - сдача до 12.05.22 и 14.05.22\n",
    "    Лабораторная работа 4 (разбор задания 4) - 12.05.22 и 14.05.22 - сдача до 9.06.22 и 11.06.22 \n",
    "    "
   ]
  },
  {
   "cell_type": "markdown",
   "metadata": {
    "id": "Mxioyfcq5whj"
   },
   "source": [
    "# Основы NumPy: тензоры и векторные вычисления. Функции активации\n",
    "\n",
    "Данная лабораторная работа посвящена изучению основного пакета для численных расчетов в Python - [NumPy](https://numpy.org/). Несмотря на то, что пакет NumPy почти не содержит средств для моделирования и научных расчетов, понимание массивов NumPy и ориентированных на эти массивы вычислений поможет гораздо эффективнее использовать инструменты типа [pandas](https://pandas.pydata.org/). Основными аспектами NumPy для эффективной работы с большими массивами данных являются:\n",
    "- хранение данных в непрерывном блоке памяти независимо от других встроенных объектов Python, что позволяет работать с этим блоком без проверки типов данных и других накладных расходов. Массивы NumPy занимают гораздо меньше памяти, чем встроенные в Python последовательности;\n",
    "- сложные операции применяются к массивам целиком, так что циклы for не нужны.\n",
    "\n",
    "**Цели лабораторной:**\n",
    "- Научиться использовать iPython Notebooks\n",
    "- Познакомиься с numpy-функциями и векторными вычислениями\n",
    "- Понять механизм *укладывания* (broadcasting) массивов\n",
    "- Научиться векторизировать вычисления\n",
    "\n",
    "Давайте приступим!"
   ]
  },
  {
   "cell_type": "markdown",
   "metadata": {
    "id": "_Ug_TFfZ5whq"
   },
   "source": [
    "## О работе с iPython Notebooks ##\n",
    "\n",
    "iPython Notebooks - это интерактивный веб-блокнот (в руcскоязычной среде обычно переводят как блокнот, тетрадка, ноутбук), представляющий продуктивную среду для интерактивных исследовательских вычислений. В 2014 году веб-блокнот IPython превратился в Jupyter-блокнот, который ныне поддерживает более 40 языково-независимых средств интерактивных вычислений. \n",
    "\n",
    "В основном в каждом блокноте курса для создания заданий использовалось расширение nbgrader, автоматически создающее участки кода с заданием. Участки, требующие от Вас написания кода отмечены строчкой `### YOUR CODE HERE raise NotImplementedError()`. Напишите вместо этого ваш код и запустите его сочетанием клавиш \"SHIFT\"+\"ENTER\" или нажав \"Run Cell\" на панели инструментов. Вы не ограничены числом строчек для написания кода, однако старайтесь писать код максимально лаконично и с использованием только тех библиотек, что определены в начале всего блокнота. Например, при работе с массивами NumPy следует по возможности использовать встроенные векторизированные функции, а НЕ ПРИМЕНЯТЬ ЦИКЛЫ.\n",
    "\n",
    "Часто после задания используются нередактируемые блоки проверки правильности выполнения, включающие в себя функции `assert`. Всегда выполняйте данные блоки! Несмотря на то, что их результаты не влияют на дельнейший код, они помогают в первую очередь Вам проверить свое решение, а также автоматически начисляют баллы за правильность в системе автоматизированной проверки.\n",
    "\n",
    "Еще одним типом задания является развернутый ответ на вопрос, который следует писать в ячейке `YOUR ANSWER HERE`, где для написания текста следует пользоваться разметкой *[Markdown](https://www.markdownguide.org)*, а для формул - LaTeX: $\\sum_{i=1}^n i^2$ (просто отделив LaTeX-выражение с помощью $-символов).\n",
    "\n",
    "P.S. Кликните 2 раза левой кнопкой мыши на эту ячейку, чтобы посмотреть, как записывается формула в LaTeXе."
   ]
  },
  {
   "cell_type": "markdown",
   "metadata": {
    "id": "9T03Hd485whq"
   },
   "source": [
    "## Формальный нейрон ##\n",
    "\n",
    "Искусственные нейронные сети появились в результате применения математического аппарата к исследованию функционирования нервной системы. Полученные при этом результаты успешно применяются при решении проблем распознавания образов, моделирования, прогнозирования, оптимизации и управления. \n",
    "Основной структурной и функциональной частью нейронной сети является **формальный нейрон (formal neuron)**, представленный на\n",
    "рисунке, где $x_0,x_1,...,x_n$ – компоненты вектора входных сигналов (т.е. признаки объекта),\n",
    "$w_0,w_1,...,w_n$ – значения весов входных сигналов нейрона, а $y$ – выходной сигнал нейрона:\n",
    "<img src=\"./images/формальный_нейрон.png\" title=\"Формальный нейрон\" width=\"350\">\n",
    "Формальный нейрон состоит из элементов 3 типов: умножителей (синапсов), сумматора и преобразователя. Синапс характеризует силу (вес) связи между двумя нейронами. Сумматор выполняет сложение входных сигналов, предварительно помноженных на соответствующие веса. Преобразователь реализует функцию одного аргумента – выхода /сумматора. Эта функция называется **функцией активации** или **передаточной функцией нейрона**. Исходя из данного описания, математическая модель нейрона может быть представлена следующим образом: \n",
    "$$y=f(S),\\\\\n",
    "S=\\sum_{i=1}^n w_i x_i + b $$\n",
    "\n",
    "Основной задачей обучения такого нейрона является настройка параметров $w_0,w_1,...,w_n$ таким образом, чтобы  в ответ на входные данные $x_0,x_1,...,x_n$ на выходе нейрон выдавал бы некоторое желаемое(целевое) значение $y_t$.\n",
    "\n",
    "Мы рассмотрели модель одного нейрона. Нейронная сеть состоит из множества таких нейронов, объединенных в слои.\n",
    "\n",
    "\n",
    "Литертура:\n",
    "<br>- Спицын В.Г. Интеллектуальные системы: учебное пособие / В.Г. Спицын, Ю.Р. Цой; Томский политехнический университет. – Томск: Изд-во Томского политехнического университета, 2012. – 176 с."
   ]
  },
  {
   "cell_type": "markdown",
   "metadata": {
    "id": "77pf2A5y5whr"
   },
   "source": [
    "Наиболее часто используемые функции активации представлены в таблице 1:\n",
    "\n",
    "|Название|Формула|\n",
    "|:--------------|:----------------------------------------------------------|\n",
    "|Пороговая      |$$f(S)=\\begin{cases} 0,S<\\theta\\\\1,S\\ge\\theta \\end{cases}$$|\n",
    "|Линейная       |$$f(S)=aS$$                                                |\n",
    "|Лог-сигмоидная (логистическая) |$$f(S) = \\frac{1}{1+e^{-aS}}$$      \n",
    "|Гиперболический<br>тангенс|$$f(S) = \\frac{e^{aS}-e^{-aS}}{e^{aS}+e^{-aS}}$$|\n",
    "|ReLU           |$$f(S)=\\max(S,0)$$                                         |"
   ]
  },
  {
   "cell_type": "markdown",
   "metadata": {
    "id": "Pv2wCTBn5whr"
   },
   "source": [
    "## 1 - Базовые функции NumPy. Реализация функций активации ##\n",
    "\n",
    "### 1.1 - Объект ndarray ###\n",
    "\n",
    "Одна из ключевых особенностей NumPy - объект ndarray для представления N-мерного массива. Это быстрый и гибкий контейнер для хранения больших наборов данных в Python. Массивы позволяют выполнять математические операции над целыми блоками данных, применяя такой же синтаксис, как для соотвествующих операций над скалярами. \n",
    "\n",
    "В машинном обучении часто используется слово **тензор** - это контейнер для чисел. В терменологии тензоров *измерения* часто называют *осями*. Количество осей тензора называют его *рангом*.\n",
    "Рассмотрим виды тензоров:\n",
    "- тензор, содержащий единственное число, называется *скаляром*: `np.array(12)`\n",
    "- тензор первого ранга - одномерный массив чисел, называют *вектором*: `np.array([12,5,6,20])`\n",
    "- тензор второго ранга - массив векторов - это *матрица*: `np.array([[5,9],[6,3]])`\n",
    "- тензор третьего и высшего ранга: `np.array([[[1,2],[3,4]],[[5,6],[7,8]]])`\n",
    "\n",
    "Тензор определяется тремя ключевыми атрибутами:\n",
    "- количество осей(ранг): `ndim` \n",
    "- форма - кортеж целых чисел, описывающих количество измерений на каждой оси тензора: `shape` \n",
    "- тип данных, содержащихся в тензоре: `dtype`"
   ]
  },
  {
   "cell_type": "code",
   "execution_count": 1,
   "metadata": {
    "id": "gKaPB8aS5whs"
   },
   "outputs": [
    {
     "name": "stdout",
     "output_type": "stream",
     "text": [
      "[[[ 1  2]\n",
      "  [ 3  4]\n",
      "  [ 5  6]]\n",
      "\n",
      " [[ 7  8]\n",
      "  [ 9 10]\n",
      "  [11 12]]]\n",
      "Ранг:  3\n",
      "Форма:  (2, 3, 2)\n",
      "Тип данных:  int32\n"
     ]
    }
   ],
   "source": [
    "import numpy as np\n",
    "x = np.array([[[1,2],[3,4],[5,6]],[[7,8],[9,10],[11,12]]])\n",
    "print(x)\n",
    "print(\"Ранг: \", x.ndim)\n",
    "print(\"Форма: \", x.shape)\n",
    "print(\"Тип данных: \", x.dtype)"
   ]
  },
  {
   "cell_type": "markdown",
   "metadata": {
    "id": "WF_wFSfB5whs"
   },
   "source": [
    "### 1.2 - Сигмоидальная (лог-сигмоидная) функция активации ###\n",
    "\n",
    "В данном задании Вам пригодится функция [np.exp()](https://docs.scipy.org/doc/numpy-1.10.1/reference/generated/numpy.exp.html), вычисляющая экспоненту числа, однако до этого Вы использовали [math.exp()](https://docs.python.org/3/library/math.html). Для быстрого вызова документации по функции вы можете в отдельной ячейке кода вызвать команду без параметров и с ? знаком, например: `np.exp?`.\n",
    "\n",
    "**Задание**: Реализуйте две сигмоидальные функции с помощью библиотек math и numpy, которые на вход принимают тензор x любого ранга и формы, и сравните их результаты.\n",
    "$$ \\text{Для } x \\in \\mathbb{R}^n \\text{,     } sigmoid(x) = sigmoid\\begin{pmatrix}\n",
    "    x_1  \\\\\n",
    "    x_2  \\\\\n",
    "    ...  \\\\\n",
    "    x_n  \\\\\n",
    "\\end{pmatrix} = \\begin{pmatrix}\n",
    "    \\frac{1}{1+e^{-x_1}}  \\\\\n",
    "    \\frac{1}{1+e^{-x_2}}  \\\\\n",
    "    ...  \\\\\n",
    "    \\frac{1}{1+e^{-x_n}}  \\\\\n",
    "\\end{pmatrix}\\tag{1} $$"
   ]
  },
  {
   "cell_type": "code",
   "execution_count": 1,
   "metadata": {
    "deletable": false,
    "id": "-gcsr9A45whs",
    "nbgrader": {
     "checksum": "80f70d40161e29e39cc9ac44b9e3cc3d",
     "grade": false,
     "grade_id": "math_sigmoid",
     "locked": false,
     "schema_version": 1,
     "solution": true
    }
   },
   "outputs": [],
   "source": [
    "# Вычисление сигмоиды скалярного значения\n",
    "import math\n",
    "def basic_sigmoid(x):\n",
    "    s = 1 / (1+math.exp(-x))\n",
    "#    raise NotImplementedError()\n",
    "    return s"
   ]
  },
  {
   "cell_type": "code",
   "execution_count": 2,
   "metadata": {
    "deletable": false,
    "editable": false,
    "id": "977zsTDz5wht",
    "nbgrader": {
     "checksum": "ca4f7b132292833b5594ff38b370d431",
     "grade": true,
     "grade_id": "correct_math_sig",
     "locked": true,
     "points": 0.5,
     "schema_version": 1,
     "solution": false
    }
   },
   "outputs": [],
   "source": [
    "assert round(basic_sigmoid(3), 2) == 0.95"
   ]
  },
  {
   "cell_type": "markdown",
   "metadata": {
    "id": "uHt_SGJW6BcK"
   },
   "source": [
    "Вычисление функции math.exp для вектора приведет к ошибке."
   ]
  },
  {
   "cell_type": "code",
   "execution_count": 4,
   "metadata": {
    "id": "OYVJR_td5wht"
   },
   "outputs": [
    {
     "ename": "TypeError",
     "evalue": "must be real number, not list",
     "output_type": "error",
     "traceback": [
      "\u001b[1;31m---------------------------------------------------------------------------\u001b[0m",
      "\u001b[1;31mTypeError\u001b[0m                                 Traceback (most recent call last)",
      "\u001b[1;32m<ipython-input-4-c60e00724e3d>\u001b[0m in \u001b[0;36m<module>\u001b[1;34m\u001b[0m\n\u001b[0;32m      5\u001b[0m \u001b[1;31m#    raise NotImplementedError()\u001b[0m\u001b[1;33m\u001b[0m\u001b[1;33m\u001b[0m\u001b[1;33m\u001b[0m\u001b[0m\n\u001b[0;32m      6\u001b[0m     \u001b[1;32mreturn\u001b[0m \u001b[0ms\u001b[0m\u001b[1;33m\u001b[0m\u001b[1;33m\u001b[0m\u001b[0m\n\u001b[1;32m----> 7\u001b[1;33m \u001b[0mbasic_sigmoid\u001b[0m\u001b[1;33m(\u001b[0m\u001b[0mx\u001b[0m\u001b[1;33m)\u001b[0m\u001b[1;33m\u001b[0m\u001b[1;33m\u001b[0m\u001b[0m\n\u001b[0m",
      "\u001b[1;32m<ipython-input-4-c60e00724e3d>\u001b[0m in \u001b[0;36mbasic_sigmoid\u001b[1;34m(x)\u001b[0m\n\u001b[0;32m      2\u001b[0m \u001b[0mx\u001b[0m \u001b[1;33m=\u001b[0m \u001b[1;33m[\u001b[0m\u001b[1;36m1\u001b[0m\u001b[1;33m,\u001b[0m \u001b[1;36m2\u001b[0m\u001b[1;33m,\u001b[0m \u001b[1;36m3\u001b[0m\u001b[1;33m]\u001b[0m\u001b[1;33m\u001b[0m\u001b[1;33m\u001b[0m\u001b[0m\n\u001b[0;32m      3\u001b[0m \u001b[1;32mdef\u001b[0m \u001b[0mbasic_sigmoid\u001b[0m\u001b[1;33m(\u001b[0m\u001b[0mx\u001b[0m\u001b[1;33m)\u001b[0m\u001b[1;33m:\u001b[0m\u001b[1;33m\u001b[0m\u001b[1;33m\u001b[0m\u001b[0m\n\u001b[1;32m----> 4\u001b[1;33m     \u001b[0ms\u001b[0m \u001b[1;33m=\u001b[0m \u001b[0mmath\u001b[0m\u001b[1;33m.\u001b[0m\u001b[0mexp\u001b[0m\u001b[1;33m(\u001b[0m\u001b[0mx\u001b[0m\u001b[1;33m)\u001b[0m\u001b[1;33m\u001b[0m\u001b[1;33m\u001b[0m\u001b[0m\n\u001b[0m\u001b[0;32m      5\u001b[0m \u001b[1;31m#    raise NotImplementedError()\u001b[0m\u001b[1;33m\u001b[0m\u001b[1;33m\u001b[0m\u001b[1;33m\u001b[0m\u001b[0m\n\u001b[0;32m      6\u001b[0m     \u001b[1;32mreturn\u001b[0m \u001b[0ms\u001b[0m\u001b[1;33m\u001b[0m\u001b[1;33m\u001b[0m\u001b[0m\n",
      "\u001b[1;31mTypeError\u001b[0m: must be real number, not list"
     ]
    }
   ],
   "source": [
    "### Попробуйте вычислить результат для вектора ###\n",
    "x = [1, 2, 3]\n",
    "def basic_sigmoid(x):\n",
    "    s = math.exp(x)\n",
    "#    raise NotImplementedError()\n",
    "    return s\n",
    "basic_sigmoid(x)"
   ]
  },
  {
   "cell_type": "markdown",
   "metadata": {
    "id": "zrYWfXlq6MNK"
   },
   "source": [
    "Библиотека numpy позволит провести вычисление функции для векторов. Реализуйте функцию sigmoid с использованием библиотеки numpy и функции numpy.exp."
   ]
  },
  {
   "cell_type": "code",
   "execution_count": 5,
   "metadata": {
    "deletable": false,
    "id": "usOU_OJv5whu",
    "nbgrader": {
     "checksum": "9932e637ec642f4c9571dd63649f892f",
     "grade": false,
     "grade_id": "sigmoid",
     "locked": false,
     "schema_version": 1,
     "solution": true
    }
   },
   "outputs": [],
   "source": [
    "# Реализуйте функцию sigmoid для вектора\n",
    "import numpy as np\n",
    "\n",
    "def sigmoid(x):    \n",
    "    s = 1 / (1+np.exp(-x))\n",
    "#    raise NotImplementedError()\n",
    "    return s"
   ]
  },
  {
   "cell_type": "code",
   "execution_count": 6,
   "metadata": {
    "deletable": false,
    "editable": false,
    "id": "G0z1RD3W5whu",
    "nbgrader": {
     "checksum": "6932ca021d690ad738e30663e853da6b",
     "grade": true,
     "grade_id": "correct_sigmoid",
     "locked": true,
     "points": 0.5,
     "schema_version": 1,
     "solution": false
    }
   },
   "outputs": [],
   "source": [
    "x = np.array([1, 2, 3])\n",
    "res = sigmoid(x)\n",
    "assert round(res[0], 2) == 0.73 \n",
    "assert round(res[1], 2) == 0.88\n",
    "assert round(res[2], 2) == 0.95"
   ]
  },
  {
   "cell_type": "markdown",
   "metadata": {
    "id": "EK0zpxgs5whu"
   },
   "source": [
    "### 1.3 - Производная сигмоидальной функции\n",
    "\n",
    "Для обучения нейронной сети необходимо рассчитывать производную функции активации. Для выполнения дальнейших лабораторных работ Вам понадобится функция, вычисляющая производную сигмоидальной функции, в частности для оптимизации функции качества оценки модели методом обратного распространения ошибки.\n",
    "\n",
    "<br>- Спицын В.Г. Интеллектуальные системы: учебное пособие / В.Г. Спицын, Ю.Р. Цой; Томский политехнический университет. – Томск: Изд-во Томского политехнического университета, 2012. – 176 с.\n",
    "\n",
    "**Задание**: Реализуйте функцию sigmoid_grad(), вычисляющую первую производную сигмоидальной функции по входному зачению x: \n",
    "$$sigmoid\\_derivative(x) = \\sigma'(x) = \\sigma(x) (1 - \\sigma(x))\\tag{2}$$"
   ]
  },
  {
   "cell_type": "code",
   "execution_count": 13,
   "metadata": {
    "deletable": false,
    "id": "qlLW-CO-5whv",
    "nbgrader": {
     "checksum": "c878a9ed01ba3cda1bf0312364e82e49",
     "grade": false,
     "grade_id": "derivative",
     "locked": false,
     "schema_version": 1,
     "solution": true
    }
   },
   "outputs": [],
   "source": [
    "def sigmoid_derivative(x):\n",
    "    ds = (1 / (1+np.exp(-x)))*(1 - (1 / (1+np.exp(-x))))\n",
    " #   raise NotImplementedError()\n",
    "    \n",
    "    return ds"
   ]
  },
  {
   "cell_type": "code",
   "execution_count": 14,
   "metadata": {
    "deletable": false,
    "editable": false,
    "id": "_Yh3KaBD5whv",
    "nbgrader": {
     "checksum": "70f14830871753f66d06209567e60520",
     "grade": true,
     "grade_id": "correct_derivative",
     "locked": true,
     "points": 1,
     "schema_version": 1,
     "solution": false
    }
   },
   "outputs": [
    {
     "name": "stdout",
     "output_type": "stream",
     "text": [
      "sigmoid_derivative(x) = [0.19661193 0.10499359 0.04517666]\n"
     ]
    }
   ],
   "source": [
    "x = np.array([1, 2, 3])\n",
    "res = sigmoid_derivative(x) \n",
    "print (\"sigmoid_derivative(x) = \" + str(res))\n",
    "assert round(res[0], 2) == 0.20 \n",
    "assert round(res[1], 2) == 0.10\n",
    "assert round(res[2], 3) == 0.045"
   ]
  },
  {
   "cell_type": "markdown",
   "metadata": {
    "id": "Hn6UfjfO5whv"
   },
   "source": [
    "### 1.4 - Визуализация графиков функций активации ###\n",
    "\n",
    "Понимание области значений и вида графика функции активации обязательно для дальнейшего изучения грамотного построения нейронных сетей. Приведем пример получения графика сигмоидальной функции активации."
   ]
  },
  {
   "cell_type": "code",
   "execution_count": 25,
   "metadata": {
    "id": "OqXLLZ_B5whv"
   },
   "outputs": [
    {
     "data": {
      "image/png": "[encoded data removed]",
      "text/plain": [
       "<Figure size 432x288 with 1 Axes>"
      ]
     },
     "metadata": {
      "needs_background": "light"
     },
     "output_type": "display_data"
    }
   ],
   "source": [
    "import matplotlib.pyplot as plt\n",
    "import numpy as np\n",
    "\n",
    "def sigmoid(x):    \n",
    "    s = 1 / (1+np.exp(-x))\n",
    "#    raise NotImplementedError()\n",
    "    return s\n",
    "\n",
    "fig = plt.figure()\n",
    "ax = fig.add_subplot(1, 1, 1)\n",
    "\n",
    "ax.spines['left'].set_position('center')\n",
    "ax.spines['bottom'].set_position('center')\n",
    "x = np.linspace(-10, 10, 100)\n",
    "plt.plot(x, sigmoid(x))\n",
    "plt.show()"
   ]
  },
  {
   "cell_type": "markdown",
   "metadata": {
    "id": "fSOp9FvI5whw"
   },
   "source": [
    "**Задание**: Реализуте остальные 4 функции активации, визуализируйте их графики на одном plot с помощью [subplots](https://matplotlib.org/api/_as_gen/matplotlib.pyplot.subplots.html#matplotlib.pyplot.subplots), а также скопируйте таблицу 1 в поле `YOUR ANSWER HERE` и дополните колонкой \"Область значений\", заполните ее."
   ]
  },
  {
   "cell_type": "raw",
   "metadata": {
    "deletable": false,
    "id": "bkFQqo-x5whw",
    "nbgrader": {
     "checksum": "edbd25e909b04c81e0efec7589db645e",
     "grade": true,
     "grade_id": "functions",
     "locked": false,
     "points": 2,
     "schema_version": 1,
     "solution": true
    }
   },
   "source": []
  },
  {
   "cell_type": "code",
   "execution_count": 68,
   "metadata": {},
   "outputs": [
    {
     "data": {
      "image/png": "[encoded data removed]",
      "text/plain": [
       "<Figure size 864x864 with 4 Axes>"
      ]
     },
     "metadata": {
      "needs_background": "light"
     },
     "output_type": "display_data"
    }
   ],
   "source": [
    "import matplotlib.pyplot as plt\n",
    "import numpy as np\n",
    "a = 1\n",
    "def gtg(x):\n",
    "#    raise NotImplementedError()\n",
    "    return (np.exp(a*x) - np.exp(-a*x)) / (np.exp(a*x) + np.exp(-a*x))\n",
    "def line(x):\n",
    "    return a*x\n",
    "def Max(x):\n",
    "    return np.where(x < 0, 0, x)\n",
    "def step(x):\n",
    "    return np.where(x < 0, 0, 1)\n",
    "                             \n",
    "fig = plt.figure(figsize=(12, 12))\n",
    "x = np.linspace(-10, 10, 100)\n",
    "plt.subplot(2, 2, 1)\n",
    "plt.plot(x, gtg(x))\n",
    "plt.subplot(2, 2, 2)\n",
    "plt.plot(x, line(x), '--')\n",
    "plt.subplot(2, 2, 3)\n",
    "plt.plot(x, Max(x))\n",
    "plt.subplot(2, 2, 4)\n",
    "plt.plot(x, step(x), '--')\n",
    "plt.show()"
   ]
  },
  {
   "cell_type": "markdown",
   "metadata": {
    "id": "77pf2A5y5whr"
   },
   "source": [
    "Наиболее часто используемые функции активации представлены в таблице 1:\n",
    "\n",
    "|Название|Формула|Область значений|\n",
    "|:--------------|:----------------------------------------------------------|:-----------------------------|\n",
    "|Пороговая      |$$f(S)=\\begin{cases} 0,S<\\theta\\\\1,S\\ge\\theta \\end{cases}$$| $$S∈|R$$ $$f(S)=0or1$$ |\n",
    "|Линейная       |$$f(S)=aS$$                                                | $$S,f(S)∈|R$$ |\n",
    "|Лог-сигмоидная (логистическая) |$$f(S) = \\frac{1}{1+e^{-aS}}$$             | $$S∈|R$$ $$f(S)∈(0;1)$$ |\n",
    "|Гиперболический<br>тангенс|$$f(S) = \\frac{e^{aS}-e^{-aS}}{e^{aS}+e^{-aS}}$$| $$S∈|R$$ $$f(S)∈(-1;1)$$ |\n",
    "|ReLU           |$$f(S)=\\max(S,0)$$                                         | $$S∈|R$$ $$f(S)∈[0;∞)$$ |"
   ]
  },
  {
   "cell_type": "markdown",
   "metadata": {
    "id": "TpJk06nD5whw"
   },
   "source": [
    "### 1.5 - Изменение формы массива ###\n",
    "\n",
    "Во многих случаях изменить форму массива можно без копирования данных. Для этого следует передать кортеж с описанием новой формы методу экземпляра массива функции [np.reshape()](https://docs.scipy.org/doc/numpy/reference/generated/numpy.reshape.html).\n",
    "\n",
    "Изменение формы с преобразованием в двумерный массив:\n",
    "- порядок по строкам (как в С): старшие измерения обходятся *раньше* (т.е сначала обойти ось 1, а потом переходить к оси 0); \n",
    "- порядок по столбцам (как в Fortran): старшие измерения обходятся *позже* (т.е. сначала обойти ось 0, а потом переходить к оси 1).\n",
    "\n",
    "<img src=\"images/reshape.png\" style=\"width:500px;height:300;\">\n",
    "По умолчанию массивы NumPy размещаются в памяти *по строкам*.\n",
    "\n",
    "Например, изображение формата RGB в компьютере представляет собой трехмерный массив формы $(ширина, высота, цвет = 3)$. Однако, для дальнейшей работы с изображениями Вам необходимо преобразовать их к форме $(ширина*высота*3, 1)$. Другими словами, Вы должны \"развернуть\", трехмерный массив в вектор значений.\n",
    "\n",
    "<img src=\"images/image2vector.png\" style=\"width:600px;\">\n",
    "\n",
    "**Задание**: Реализуйте функцию `image_to_vector()`, которая принимает на вход тензор формы $(ширина, высота, 3)$ и возвращает вектор данных формы $(ширина*высота*3, 1)$. Другими словами, измените форму тензора $v$ с $(a, b, c)$ на $(a*b*с,1)$."
   ]
  },
  {
   "cell_type": "code",
   "execution_count": 4,
   "metadata": {
    "deletable": false,
    "id": "OMAwHfjF5whx",
    "nbgrader": {
     "checksum": "ddfdbcf9ec46793975a89098cdc39f62",
     "grade": false,
     "grade_id": "im2vec",
     "locked": false,
     "schema_version": 1,
     "solution": true
    }
   },
   "outputs": [
    {
     "name": "stdout",
     "output_type": "stream",
     "text": [
      "[[1]\n",
      " [4]\n",
      " [7]\n",
      " [2]\n",
      " [5]\n",
      " [8]\n",
      " [3]\n",
      " [6]\n",
      " [9]]\n"
     ]
    }
   ],
   "source": [
    "import numpy as np\n",
    "image = np.array([[[1,4,7]],[[2,5,8]],[[3,6,9]]])\n",
    "def image_to_vector(image):\n",
    "#    raise NotImplementedError()\n",
    "    k = int(image.size)\n",
    "    v = image.reshape(k,1)\n",
    "    return v\n",
    "print(v)"
   ]
  },
  {
   "cell_type": "code",
   "execution_count": 5,
   "metadata": {
    "deletable": false,
    "editable": false,
    "id": "pw_t9sgV5whx",
    "nbgrader": {
     "checksum": "53058ee91dc3aa7e26397c5111609455",
     "grade": true,
     "grade_id": "correct_im2vec",
     "locked": true,
     "points": 1,
     "schema_version": 1,
     "solution": false
    }
   },
   "outputs": [
    {
     "name": "stdout",
     "output_type": "stream",
     "text": [
      "image_to_vector(image) = [[0.67826139]\n",
      " [0.29380381]\n",
      " [0.90714982]\n",
      " [0.52835647]\n",
      " [0.4215251 ]\n",
      " [0.45017551]\n",
      " [0.92814219]\n",
      " [0.96677647]\n",
      " [0.85304703]\n",
      " [0.52351845]\n",
      " [0.19981397]\n",
      " [0.27417313]\n",
      " [0.60659855]\n",
      " [0.00533165]\n",
      " [0.10820313]\n",
      " [0.49978937]\n",
      " [0.34144279]\n",
      " [0.94630077]]\n"
     ]
    }
   ],
   "source": [
    "image = np.array([[[ 0.67826139,  0.29380381],\n",
    "        [ 0.90714982,  0.52835647],\n",
    "        [ 0.4215251 ,  0.45017551]],\n",
    "\n",
    "       [[ 0.92814219,  0.96677647],\n",
    "        [ 0.85304703,  0.52351845],\n",
    "        [ 0.19981397,  0.27417313]],\n",
    "\n",
    "       [[ 0.60659855,  0.00533165],\n",
    "        [ 0.10820313,  0.49978937],\n",
    "        [ 0.34144279,  0.94630077]]])\n",
    "res = image_to_vector(image)\n",
    "print (\"image_to_vector(image) = \" + str(res))\n",
    "\n",
    "assert round(res[5,0], 2) == 0.45 \n",
    "assert round(res[8,0], 2) == 0.85\n",
    "assert round(res[2,0], 2) == 0.91"
   ]
  },
  {
   "cell_type": "markdown",
   "metadata": {
    "id": "eeZ8pYYv5whx"
   },
   "source": [
    "**Задание**: какие две функции numpy используются для *линеаризации* - перехода от многомерного массива к одномерному массиву - и в чем их отличие? (показать на примере кода)"
   ]
  },
  {
   "cell_type": "markdown",
   "metadata": {
    "deletable": false,
    "id": "vQ5j2EO25whx",
    "nbgrader": {
     "checksum": "bb272b74230f565d1d543f709e023d91",
     "grade": true,
     "grade_id": "linear",
     "locked": false,
     "points": 1,
     "schema_version": 1,
     "solution": true
    }
   },
   "source": []
  },
  {
   "cell_type": "markdown",
   "metadata": {
    "id": "sd7zR1BS5whx"
   },
   "source": [
    "### 1.6 - Укладывание ####\n",
    "Словом \"укладывание\" ([broadcasting](http://docs.scipy.org/doc/numpy/user/basics.broadcasting.html)) Описывается способ выполнения арифметических операций над массивами разной формы. Это очень мощный механизм, но даже опытные пользователи иногда испытывают затруднения с его пониманием. Простейший пример укладывания - комбинирование скалярного значения с массивом:"
   ]
  },
  {
   "cell_type": "code",
   "execution_count": 31,
   "metadata": {
    "id": "4r_X80S55why"
   },
   "outputs": [
    {
     "name": "stdout",
     "output_type": "stream",
     "text": [
      "[0 1 2 3 4 5]\n",
      "[ 0  4  8 12 16 20]\n"
     ]
    }
   ],
   "source": [
    "#Укладывание скалярного значения 4 на все элементы массива на основе умножения:\n",
    "arr1 = np.arange(6)\n",
    "print(arr1)\n",
    "print(arr1 * 4)"
   ]
  },
  {
   "cell_type": "markdown",
   "metadata": {
    "id": "xgFScdXi5why"
   },
   "source": [
    "**Правило укладывания**: Два массива совместимы по укладыванию, если для обоих *последних измерений* (т.е. отсчитываемых с конца) длины осей совпадают или хотя бы одна длина равна 1. Тогда укладывание производится по отсутствующим измерениям или по измерениям длины 1. "
   ]
  },
  {
   "cell_type": "markdown",
   "metadata": {
    "id": "uhB9Cq495why"
   },
   "source": [
    "Укладывание одномерного массива по оси 0:\n",
    "<img src=\"./images/укладывание_1.png\" title=\"Укладывание одномерного массива по оси 0\" width=\"75%\">"
   ]
  },
  {
   "cell_type": "code",
   "execution_count": 32,
   "metadata": {
    "id": "PJWKaExB5why"
   },
   "outputs": [
    {
     "name": "stdout",
     "output_type": "stream",
     "text": [
      "init arr1:\n",
      " [0 0 0 1 1 1 2 2 2 3 3 3]\n",
      "arr1 reshaped (4,3):\n",
      " [[0 0 0]\n",
      " [1 1 1]\n",
      " [2 2 2]\n",
      " [3 3 3]]\n",
      "arr2:\n",
      " [1 2 3]\n",
      "arr + arr2:\n",
      " [[1 2 3]\n",
      " [2 3 4]\n",
      " [3 4 5]\n",
      " [4 5 6]]\n"
     ]
    }
   ],
   "source": [
    "arr1 = np.arange(4).repeat(3)\n",
    "print('init arr1:\\n',arr1)\n",
    "arr1 = arr1.reshape(4,3)\n",
    "print('arr1 reshaped (4,3):\\n',arr1)\n",
    "arr2 = np.arange(1,4)\n",
    "print('arr2:\\n',arr2)\n",
    "print('arr + arr2:\\n',arr1 + arr2)"
   ]
  },
  {
   "cell_type": "markdown",
   "metadata": {
    "id": "h_IjxSdX5why"
   },
   "source": [
    "Укладывание одномерного массива по оси 1:\n",
    "<img src=\"./images/укладывание_2.png\" title=\"Укладывание одномерного массива по оси 1\" width=\"75%\">"
   ]
  },
  {
   "cell_type": "code",
   "execution_count": 33,
   "metadata": {
    "id": "e7FRUlvC5whz"
   },
   "outputs": [
    {
     "name": "stdout",
     "output_type": "stream",
     "text": [
      "arr1:\n",
      " [[0 0 0]\n",
      " [1 1 1]\n",
      " [2 2 2]\n",
      " [3 3 3]]\n",
      "arr2:\n",
      " [[1]\n",
      " [2]\n",
      " [3]\n",
      " [4]]\n",
      "arr1 + arr2:\n",
      " [[1 1 1]\n",
      " [3 3 3]\n",
      " [5 5 5]\n",
      " [7 7 7]]\n"
     ]
    }
   ],
   "source": [
    "arr2 = np.arange(1,5)\n",
    "arr2 = arr2.reshape(4,1)\n",
    "print('arr1:\\n',arr1)\n",
    "print('arr2:\\n',arr2)\n",
    "print('arr1 + arr2:\\n',arr1 + arr2)"
   ]
  },
  {
   "cell_type": "markdown",
   "metadata": {
    "id": "7h3Uwcxd5whz"
   },
   "source": [
    "В трехмерном случае укладываниепо любому из трех измерений сводится к изменению формы данных для обеспечения совместимости массивов. На рисунке наглядно показано, каковы должны быть формы для укладывания по любой оси трехмерного массива.\n",
    "Укладывание двумерного массива в трехмерный массив:\n",
    "<img src=\"./images/укладывание_4.png\" title=\"Укладывание двумерного массива в трехмерный массив\" width=\"65%\">"
   ]
  },
  {
   "cell_type": "code",
   "execution_count": 144,
   "metadata": {},
   "outputs": [
    {
     "name": "stdout",
     "output_type": "stream",
     "text": [
      "arr1:\n",
      " [[[  0   1   2]\n",
      "  [  3   4   5]\n",
      "  [  6   7   8]\n",
      "  [  9  10  11]\n",
      "  [ 12  13  14]]\n",
      "\n",
      " [[ 15  16  17]\n",
      "  [ 18  19  20]\n",
      "  [ 21  22  23]\n",
      "  [ 24  25  26]\n",
      "  [ 27  28  29]]\n",
      "\n",
      " [[ 30  31  32]\n",
      "  [ 33  34  35]\n",
      "  [ 36  37  38]\n",
      "  [ 39  40  41]\n",
      "  [ 42  43  44]]\n",
      "\n",
      " [[ 45  46  47]\n",
      "  [ 48  49  50]\n",
      "  [ 51  52  53]\n",
      "  [ 54  55  56]\n",
      "  [ 57  58  59]]\n",
      "\n",
      " [[ 60  61  62]\n",
      "  [ 63  64  65]\n",
      "  [ 66  67  68]\n",
      "  [ 69  70  71]\n",
      "  [ 72  73  74]]\n",
      "\n",
      " [[ 75  76  77]\n",
      "  [ 78  79  80]\n",
      "  [ 81  82  83]\n",
      "  [ 84  85  86]\n",
      "  [ 87  88  89]]\n",
      "\n",
      " [[ 90  91  92]\n",
      "  [ 93  94  95]\n",
      "  [ 96  97  98]\n",
      "  [ 99 100 101]\n",
      "  [102 103 104]]\n",
      "\n",
      " [[105 106 107]\n",
      "  [108 109 110]\n",
      "  [111 112 113]\n",
      "  [114 115 116]\n",
      "  [117 118 119]]]\n",
      "arr2:\n",
      " [[[ 1  2  3]\n",
      "  [ 4  5  6]\n",
      "  [ 7  8  9]\n",
      "  [10 11 12]\n",
      "  [13 14 15]]]\n",
      "arr1 + arr2:\n",
      " [[[  1   3   5]\n",
      "  [  7   9  11]\n",
      "  [ 13  15  17]\n",
      "  [ 19  21  23]\n",
      "  [ 25  27  29]]\n",
      "\n",
      " [[ 16  18  20]\n",
      "  [ 22  24  26]\n",
      "  [ 28  30  32]\n",
      "  [ 34  36  38]\n",
      "  [ 40  42  44]]\n",
      "\n",
      " [[ 31  33  35]\n",
      "  [ 37  39  41]\n",
      "  [ 43  45  47]\n",
      "  [ 49  51  53]\n",
      "  [ 55  57  59]]\n",
      "\n",
      " [[ 46  48  50]\n",
      "  [ 52  54  56]\n",
      "  [ 58  60  62]\n",
      "  [ 64  66  68]\n",
      "  [ 70  72  74]]\n",
      "\n",
      " [[ 61  63  65]\n",
      "  [ 67  69  71]\n",
      "  [ 73  75  77]\n",
      "  [ 79  81  83]\n",
      "  [ 85  87  89]]\n",
      "\n",
      " [[ 76  78  80]\n",
      "  [ 82  84  86]\n",
      "  [ 88  90  92]\n",
      "  [ 94  96  98]\n",
      "  [100 102 104]]\n",
      "\n",
      " [[ 91  93  95]\n",
      "  [ 97  99 101]\n",
      "  [103 105 107]\n",
      "  [109 111 113]\n",
      "  [115 117 119]]\n",
      "\n",
      " [[106 108 110]\n",
      "  [112 114 116]\n",
      "  [118 120 122]\n",
      "  [124 126 128]\n",
      "  [130 132 134]]]\n",
      "check: arr3 - arr1:\n",
      " [[[ 1  2  3]\n",
      "  [ 4  5  6]\n",
      "  [ 7  8  9]\n",
      "  [10 11 12]\n",
      "  [13 14 15]]\n",
      "\n",
      " [[ 1  2  3]\n",
      "  [ 4  5  6]\n",
      "  [ 7  8  9]\n",
      "  [10 11 12]\n",
      "  [13 14 15]]\n",
      "\n",
      " [[ 1  2  3]\n",
      "  [ 4  5  6]\n",
      "  [ 7  8  9]\n",
      "  [10 11 12]\n",
      "  [13 14 15]]\n",
      "\n",
      " [[ 1  2  3]\n",
      "  [ 4  5  6]\n",
      "  [ 7  8  9]\n",
      "  [10 11 12]\n",
      "  [13 14 15]]\n",
      "\n",
      " [[ 1  2  3]\n",
      "  [ 4  5  6]\n",
      "  [ 7  8  9]\n",
      "  [10 11 12]\n",
      "  [13 14 15]]\n",
      "\n",
      " [[ 1  2  3]\n",
      "  [ 4  5  6]\n",
      "  [ 7  8  9]\n",
      "  [10 11 12]\n",
      "  [13 14 15]]\n",
      "\n",
      " [[ 1  2  3]\n",
      "  [ 4  5  6]\n",
      "  [ 7  8  9]\n",
      "  [10 11 12]\n",
      "  [13 14 15]]\n",
      "\n",
      " [[ 1  2  3]\n",
      "  [ 4  5  6]\n",
      "  [ 7  8  9]\n",
      "  [10 11 12]\n",
      "  [13 14 15]]]\n"
     ]
    }
   ],
   "source": [
    "arr1 = np.arange(0,120)\n",
    "arr1 = arr1.reshape(8,5,3)\n",
    "print('arr1:\\n',arr1)\n",
    "arr2 = np.arange(1,16)\n",
    "arr2 = arr2.reshape(1,5,3)\n",
    "print('arr2:\\n',arr2)\n",
    "arr3 = arr1 + arr2\n",
    "print('arr1 + arr2:\\n',arr3)\n",
    "print('check: arr3 - arr1:\\n',arr3 - arr1)    # проверка правильности укладывания"
   ]
  },
  {
   "cell_type": "markdown",
   "metadata": {},
   "source": [
    "**Задание**: сделайте укладывание по остальным 2-м измерениям трехмерного тензора."
   ]
  },
  {
   "cell_type": "code",
   "execution_count": 146,
   "metadata": {},
   "outputs": [
    {
     "name": "stdout",
     "output_type": "stream",
     "text": [
      "arr1:\n",
      " [[[  0   1   2]\n",
      "  [  3   4   5]\n",
      "  [  6   7   8]\n",
      "  [  9  10  11]\n",
      "  [ 12  13  14]]\n",
      "\n",
      " [[ 15  16  17]\n",
      "  [ 18  19  20]\n",
      "  [ 21  22  23]\n",
      "  [ 24  25  26]\n",
      "  [ 27  28  29]]\n",
      "\n",
      " [[ 30  31  32]\n",
      "  [ 33  34  35]\n",
      "  [ 36  37  38]\n",
      "  [ 39  40  41]\n",
      "  [ 42  43  44]]\n",
      "\n",
      " [[ 45  46  47]\n",
      "  [ 48  49  50]\n",
      "  [ 51  52  53]\n",
      "  [ 54  55  56]\n",
      "  [ 57  58  59]]\n",
      "\n",
      " [[ 60  61  62]\n",
      "  [ 63  64  65]\n",
      "  [ 66  67  68]\n",
      "  [ 69  70  71]\n",
      "  [ 72  73  74]]\n",
      "\n",
      " [[ 75  76  77]\n",
      "  [ 78  79  80]\n",
      "  [ 81  82  83]\n",
      "  [ 84  85  86]\n",
      "  [ 87  88  89]]\n",
      "\n",
      " [[ 90  91  92]\n",
      "  [ 93  94  95]\n",
      "  [ 96  97  98]\n",
      "  [ 99 100 101]\n",
      "  [102 103 104]]\n",
      "\n",
      " [[105 106 107]\n",
      "  [108 109 110]\n",
      "  [111 112 113]\n",
      "  [114 115 116]\n",
      "  [117 118 119]]]\n",
      "arr2:\n",
      " [[[ 1  2  3]]\n",
      "\n",
      " [[ 4  5  6]]\n",
      "\n",
      " [[ 7  8  9]]\n",
      "\n",
      " [[10 11 12]]\n",
      "\n",
      " [[13 14 15]]\n",
      "\n",
      " [[16 17 18]]\n",
      "\n",
      " [[19 20 21]]\n",
      "\n",
      " [[22 23 24]]]\n",
      "arr1 + arr2:\n",
      " [[[  1   3   5]\n",
      "  [  4   6   8]\n",
      "  [  7   9  11]\n",
      "  [ 10  12  14]\n",
      "  [ 13  15  17]]\n",
      "\n",
      " [[ 19  21  23]\n",
      "  [ 22  24  26]\n",
      "  [ 25  27  29]\n",
      "  [ 28  30  32]\n",
      "  [ 31  33  35]]\n",
      "\n",
      " [[ 37  39  41]\n",
      "  [ 40  42  44]\n",
      "  [ 43  45  47]\n",
      "  [ 46  48  50]\n",
      "  [ 49  51  53]]\n",
      "\n",
      " [[ 55  57  59]\n",
      "  [ 58  60  62]\n",
      "  [ 61  63  65]\n",
      "  [ 64  66  68]\n",
      "  [ 67  69  71]]\n",
      "\n",
      " [[ 73  75  77]\n",
      "  [ 76  78  80]\n",
      "  [ 79  81  83]\n",
      "  [ 82  84  86]\n",
      "  [ 85  87  89]]\n",
      "\n",
      " [[ 91  93  95]\n",
      "  [ 94  96  98]\n",
      "  [ 97  99 101]\n",
      "  [100 102 104]\n",
      "  [103 105 107]]\n",
      "\n",
      " [[109 111 113]\n",
      "  [112 114 116]\n",
      "  [115 117 119]\n",
      "  [118 120 122]\n",
      "  [121 123 125]]\n",
      "\n",
      " [[127 129 131]\n",
      "  [130 132 134]\n",
      "  [133 135 137]\n",
      "  [136 138 140]\n",
      "  [139 141 143]]]\n",
      "check: arr3 - arr1:\n",
      " [[[ 1  2  3]\n",
      "  [ 1  2  3]\n",
      "  [ 1  2  3]\n",
      "  [ 1  2  3]\n",
      "  [ 1  2  3]]\n",
      "\n",
      " [[ 4  5  6]\n",
      "  [ 4  5  6]\n",
      "  [ 4  5  6]\n",
      "  [ 4  5  6]\n",
      "  [ 4  5  6]]\n",
      "\n",
      " [[ 7  8  9]\n",
      "  [ 7  8  9]\n",
      "  [ 7  8  9]\n",
      "  [ 7  8  9]\n",
      "  [ 7  8  9]]\n",
      "\n",
      " [[10 11 12]\n",
      "  [10 11 12]\n",
      "  [10 11 12]\n",
      "  [10 11 12]\n",
      "  [10 11 12]]\n",
      "\n",
      " [[13 14 15]\n",
      "  [13 14 15]\n",
      "  [13 14 15]\n",
      "  [13 14 15]\n",
      "  [13 14 15]]\n",
      "\n",
      " [[16 17 18]\n",
      "  [16 17 18]\n",
      "  [16 17 18]\n",
      "  [16 17 18]\n",
      "  [16 17 18]]\n",
      "\n",
      " [[19 20 21]\n",
      "  [19 20 21]\n",
      "  [19 20 21]\n",
      "  [19 20 21]\n",
      "  [19 20 21]]\n",
      "\n",
      " [[22 23 24]\n",
      "  [22 23 24]\n",
      "  [22 23 24]\n",
      "  [22 23 24]\n",
      "  [22 23 24]]]\n"
     ]
    }
   ],
   "source": [
    "# ось 1\n",
    "arr1 = np.arange(0,120)\n",
    "arr1 = arr1.reshape(8,5,3)\n",
    "print('arr1:\\n',arr1)\n",
    "arr2 = np.arange(1,25)\n",
    "arr2 = arr2.reshape(8,1,3)\n",
    "print('arr2:\\n',arr2)\n",
    "arr3 = arr1 + arr2\n",
    "print('arr1 + arr2:\\n',arr3)\n",
    "print('check: arr3 - arr1:\\n',arr3 - arr1)    # проверка правильности укладывания"
   ]
  },
  {
   "cell_type": "code",
   "execution_count": 147,
   "metadata": {},
   "outputs": [
    {
     "name": "stdout",
     "output_type": "stream",
     "text": [
      "arr1:\n",
      " [[[  0   1   2]\n",
      "  [  3   4   5]\n",
      "  [  6   7   8]\n",
      "  [  9  10  11]\n",
      "  [ 12  13  14]]\n",
      "\n",
      " [[ 15  16  17]\n",
      "  [ 18  19  20]\n",
      "  [ 21  22  23]\n",
      "  [ 24  25  26]\n",
      "  [ 27  28  29]]\n",
      "\n",
      " [[ 30  31  32]\n",
      "  [ 33  34  35]\n",
      "  [ 36  37  38]\n",
      "  [ 39  40  41]\n",
      "  [ 42  43  44]]\n",
      "\n",
      " [[ 45  46  47]\n",
      "  [ 48  49  50]\n",
      "  [ 51  52  53]\n",
      "  [ 54  55  56]\n",
      "  [ 57  58  59]]\n",
      "\n",
      " [[ 60  61  62]\n",
      "  [ 63  64  65]\n",
      "  [ 66  67  68]\n",
      "  [ 69  70  71]\n",
      "  [ 72  73  74]]\n",
      "\n",
      " [[ 75  76  77]\n",
      "  [ 78  79  80]\n",
      "  [ 81  82  83]\n",
      "  [ 84  85  86]\n",
      "  [ 87  88  89]]\n",
      "\n",
      " [[ 90  91  92]\n",
      "  [ 93  94  95]\n",
      "  [ 96  97  98]\n",
      "  [ 99 100 101]\n",
      "  [102 103 104]]\n",
      "\n",
      " [[105 106 107]\n",
      "  [108 109 110]\n",
      "  [111 112 113]\n",
      "  [114 115 116]\n",
      "  [117 118 119]]]\n",
      "arr2:\n",
      " [[[ 1]\n",
      "  [ 2]\n",
      "  [ 3]\n",
      "  [ 4]\n",
      "  [ 5]]\n",
      "\n",
      " [[ 6]\n",
      "  [ 7]\n",
      "  [ 8]\n",
      "  [ 9]\n",
      "  [10]]\n",
      "\n",
      " [[11]\n",
      "  [12]\n",
      "  [13]\n",
      "  [14]\n",
      "  [15]]\n",
      "\n",
      " [[16]\n",
      "  [17]\n",
      "  [18]\n",
      "  [19]\n",
      "  [20]]\n",
      "\n",
      " [[21]\n",
      "  [22]\n",
      "  [23]\n",
      "  [24]\n",
      "  [25]]\n",
      "\n",
      " [[26]\n",
      "  [27]\n",
      "  [28]\n",
      "  [29]\n",
      "  [30]]\n",
      "\n",
      " [[31]\n",
      "  [32]\n",
      "  [33]\n",
      "  [34]\n",
      "  [35]]\n",
      "\n",
      " [[36]\n",
      "  [37]\n",
      "  [38]\n",
      "  [39]\n",
      "  [40]]]\n",
      "arr1 + arr2:\n",
      " [[[  1   2   3]\n",
      "  [  5   6   7]\n",
      "  [  9  10  11]\n",
      "  [ 13  14  15]\n",
      "  [ 17  18  19]]\n",
      "\n",
      " [[ 21  22  23]\n",
      "  [ 25  26  27]\n",
      "  [ 29  30  31]\n",
      "  [ 33  34  35]\n",
      "  [ 37  38  39]]\n",
      "\n",
      " [[ 41  42  43]\n",
      "  [ 45  46  47]\n",
      "  [ 49  50  51]\n",
      "  [ 53  54  55]\n",
      "  [ 57  58  59]]\n",
      "\n",
      " [[ 61  62  63]\n",
      "  [ 65  66  67]\n",
      "  [ 69  70  71]\n",
      "  [ 73  74  75]\n",
      "  [ 77  78  79]]\n",
      "\n",
      " [[ 81  82  83]\n",
      "  [ 85  86  87]\n",
      "  [ 89  90  91]\n",
      "  [ 93  94  95]\n",
      "  [ 97  98  99]]\n",
      "\n",
      " [[101 102 103]\n",
      "  [105 106 107]\n",
      "  [109 110 111]\n",
      "  [113 114 115]\n",
      "  [117 118 119]]\n",
      "\n",
      " [[121 122 123]\n",
      "  [125 126 127]\n",
      "  [129 130 131]\n",
      "  [133 134 135]\n",
      "  [137 138 139]]\n",
      "\n",
      " [[141 142 143]\n",
      "  [145 146 147]\n",
      "  [149 150 151]\n",
      "  [153 154 155]\n",
      "  [157 158 159]]]\n",
      "check: arr3 - arr1:\n",
      " [[[ 1  1  1]\n",
      "  [ 2  2  2]\n",
      "  [ 3  3  3]\n",
      "  [ 4  4  4]\n",
      "  [ 5  5  5]]\n",
      "\n",
      " [[ 6  6  6]\n",
      "  [ 7  7  7]\n",
      "  [ 8  8  8]\n",
      "  [ 9  9  9]\n",
      "  [10 10 10]]\n",
      "\n",
      " [[11 11 11]\n",
      "  [12 12 12]\n",
      "  [13 13 13]\n",
      "  [14 14 14]\n",
      "  [15 15 15]]\n",
      "\n",
      " [[16 16 16]\n",
      "  [17 17 17]\n",
      "  [18 18 18]\n",
      "  [19 19 19]\n",
      "  [20 20 20]]\n",
      "\n",
      " [[21 21 21]\n",
      "  [22 22 22]\n",
      "  [23 23 23]\n",
      "  [24 24 24]\n",
      "  [25 25 25]]\n",
      "\n",
      " [[26 26 26]\n",
      "  [27 27 27]\n",
      "  [28 28 28]\n",
      "  [29 29 29]\n",
      "  [30 30 30]]\n",
      "\n",
      " [[31 31 31]\n",
      "  [32 32 32]\n",
      "  [33 33 33]\n",
      "  [34 34 34]\n",
      "  [35 35 35]]\n",
      "\n",
      " [[36 36 36]\n",
      "  [37 37 37]\n",
      "  [38 38 38]\n",
      "  [39 39 39]\n",
      "  [40 40 40]]]\n"
     ]
    }
   ],
   "source": [
    "# ось 2\n",
    "arr1 = np.arange(0,120)\n",
    "arr1 = arr1.reshape(8,5,3)\n",
    "print('arr1:\\n',arr1)\n",
    "arr2 = np.arange(1,41)\n",
    "arr2 = arr2.reshape(8,5,1)\n",
    "print('arr2:\\n',arr2)\n",
    "arr3 = arr1 + arr2\n",
    "print('arr1 + arr2:\\n',arr3)\n",
    "print('check: arr3 - arr1:\\n',arr3 - arr1)    # проверка правильности укладывания"
   ]
  },
  {
   "cell_type": "markdown",
   "metadata": {},
   "source": [
    " У **логистической (сигмоидальной) функции**  $f(S) = \\frac{1}{1+e^{-aS}}$ есть физический смысл: она моделирует кривую роста вероятности некоего события, по мере изменения управляющих параметров (факторов риска)."
   ]
  },
  {
   "cell_type": "markdown",
   "metadata": {
    "id": "xYucskGs5whz"
   },
   "source": [
    "Функция **Softmax** — это обобщение логистической функции для многомерного случая. Функция преобразует вектор ${\\displaystyle z}$ размерности ${\\displaystyle K}$ в вектор ${\\displaystyle \\sigma }$  той же размерности, где каждая координата ${\\displaystyle \\sigma _{i}}$ полученного вектора представлена вещественным числом в интервале [0,1] и сумма координат равна 1.\n",
    "\n",
    "Данную функцию применяют не к отдельному значению, а к вектору. Функция Softmax применяется в машинном обучении для задач классификации, когда количество возможных классов больше двух (для двух классов используется логистическая функция). Координаты ${\\displaystyle \\sigma _{i}}$ полученного вектора при этом трактуются как вероятности того, что объект принадлежит к классу ${\\displaystyle i}$.\n",
    "\n",
    "$ softmax(z)_i = \\frac{e^{z_i}}{\\sum_{k=1}^K e^{z_k}} $\n",
    "- $ \\text{для } x \\in \\mathbb{R}^{1\\times n} \\text{,     } softmax(x) = softmax(\\begin{bmatrix}\n",
    "    x_1  &&\n",
    "    x_2 &&\n",
    "    ...  &&\n",
    "    x_n  \n",
    "\\end{bmatrix}) = \\begin{bmatrix}\n",
    "     \\frac{e^{x_1}}{\\sum_{j}e^{x_j}}  &&\n",
    "    \\frac{e^{x_2}}{\\sum_{j}e^{x_j}}  &&\n",
    "    ...  &&\n",
    "    \\frac{e^{x_n}}{\\sum_{j}e^{x_j}} \n",
    "\\end{bmatrix} $ \n",
    "\n",
    "- $\\text{для массива } x \\in \\mathbb{R}^{m \\times n} \\text{, где  $x_{ij}$ - это элемент i-й строки и j-го столбца матрицы $x$: }$  $$softmax(x) = softmax\\begin{bmatrix}\n",
    "    x_{11} & x_{12} & x_{13} & \\dots  & x_{1n} \\\\\n",
    "    x_{21} & x_{22} & x_{23} & \\dots  & x_{2n} \\\\\n",
    "    \\vdots & \\vdots & \\vdots & \\ddots & \\vdots \\\\\n",
    "    x_{m1} & x_{m2} & x_{m3} & \\dots  & x_{mn}\n",
    "\\end{bmatrix} = \\begin{bmatrix}\n",
    "    \\frac{e^{x_{11}}}{\\sum_{j}e^{x_{1j}}} & \\frac{e^{x_{12}}}{\\sum_{j}e^{x_{1j}}} & \\frac{e^{x_{13}}}{\\sum_{j}e^{x_{1j}}} & \\dots  & \\frac{e^{x_{1n}}}{\\sum_{j}e^{x_{1j}}} \\\\\n",
    "    \\frac{e^{x_{21}}}{\\sum_{j}e^{x_{2j}}} & \\frac{e^{x_{22}}}{\\sum_{j}e^{x_{2j}}} & \\frac{e^{x_{23}}}{\\sum_{j}e^{x_{2j}}} & \\dots  & \\frac{e^{x_{2n}}}{\\sum_{j}e^{x_{2j}}} \\\\\n",
    "    \\vdots & \\vdots & \\vdots & \\ddots & \\vdots \\\\\n",
    "    \\frac{e^{x_{m1}}}{\\sum_{j}e^{x_{mj}}} & \\frac{e^{x_{m2}}}{\\sum_{j}e^{x_{mj}}} & \\frac{e^{x_{m3}}}{\\sum_{j}e^{x_{mj}}} & \\dots  & \\frac{e^{x_{mn}}}{\\sum_{j}e^{x_{mj}}}\n",
    "\\end{bmatrix} = \\begin{pmatrix}\n",
    "    softmax\\text{(first row of x)}  \\\\\n",
    "    softmax\\text{(second row of x)} \\\\\n",
    "    ...  \\\\\n",
    "    softmax\\text{(last row of x)} \\\\\n",
    "\\end{pmatrix} $$\n",
    "\n",
    "**Задание**: Реализуйте функцию softmax с помощью numpy c применением укладывания массивов. "
   ]
  },
  {
   "cell_type": "code",
   "execution_count": 38,
   "metadata": {
    "deletable": false,
    "id": "BXOGub5X5wh0",
    "nbgrader": {
     "checksum": "b53542dc2d0848560273f8881d1505ae",
     "grade": false,
     "grade_id": "softmax",
     "locked": false,
     "schema_version": 1,
     "solution": true
    }
   },
   "outputs": [],
   "source": [
    "import numpy as np\n",
    "x = np.array([[1,2,3],[4,5,6]])\n",
    "def softmax(x):\n",
    "    \"\"\"Вычисление функции softmax для каждой строки массива x (m,n). \"\"\"\n",
    "    m = int(x.ndim)\n",
    "    x = np.exp(x)\n",
    "    s = x / np.sum(x, axis = 1).reshape(m,1)\n",
    "#    raise NotImplementedError()\n",
    "    return s"
   ]
  },
  {
   "cell_type": "code",
   "execution_count": 39,
   "metadata": {
    "deletable": false,
    "editable": false,
    "id": "Nc-ZCrq75wh0",
    "nbgrader": {
     "checksum": "b8071358e73302b90626fc596f20471a",
     "grade": true,
     "grade_id": "correct_softmax",
     "locked": true,
     "points": 1,
     "schema_version": 1,
     "solution": false
    }
   },
   "outputs": [
    {
     "name": "stdout",
     "output_type": "stream",
     "text": [
      "softmax(x) = [[9.80897665e-01 8.94462891e-04 1.79657674e-02 1.21052389e-04\n",
      "  1.21052389e-04]\n",
      " [8.78679856e-01 1.18916387e-01 8.01252314e-04 8.01252314e-04\n",
      "  8.01252314e-04]]\n"
     ]
    }
   ],
   "source": [
    "x = np.array([\n",
    "    [9, 2, 5, 0, 0],\n",
    "    [7, 5, 0, 0 ,0]])\n",
    "res = softmax(x)\n",
    "print(\"softmax(x) = \" + str(res))\n",
    "\n",
    "assert round(res[1,0], 2) == 0.88 \n",
    "assert round(res[0,3], 5) == 0.00012\n",
    "assert round(res[0,0], 2) == 0.98"
   ]
  },
  {
   "cell_type": "markdown",
   "metadata": {
    "id": "K2lpSi9f5wh0"
   },
   "source": [
    "### 1.7 - Нормализация строк\n",
    "\n",
    "Было бы проблематично передать в нейронную сеть значения, имеющие самые разные диапазоны. Например, если вы хотите прогнозировать погоду, то вам неободимо учитывать такие данные, как текущий месяц, день, влажность, атмосферное давление, время суток и т.д. Сеть, конечно, сможет автоматически адаптироваться к таким разнородным данным, однако это усложнит процесс обучения. На практике к таким данным принято применять нормализацию. \n",
    "\n",
    "Целью нормализации значений является преобразование данных к виду, который наиболее подходит для обработки, т.е. данные, поступающие на вход, должны иметь числовой тип, а их значения должны быть распределены в определенном диапазоне. \n",
    "\n",
    "На практике наиболее распространены следующие методы нормализации признаков:\n",
    "- **минимакс**, линейное преобразование данных в диапазоне \\[0..1\\], где минимальное и максимальное масштабируемые значения соответствуют 0 и 1 соответственно: $$x_{norm}=\\frac{x-x_{min}}{x_{max}+x_{min}}\\tag{3}$$ \n",
    "- **Z-масштабирование**, для каждого признака во входных данных из каждого значения вычитается среднее по этому признаку $\\mu$, и разность делится на стандартное отклонение $\\sigma$, в результате признак центрируется по нулевому значению и имеет стандартное отклонение, равное единице: $$x_{norm}=\\frac{x-\\mu}{\\sigma}\\tag{4}$$\n",
    "- **масштабирование векторов данных на основе нормы вектора** $$ x_{norm}=\\frac{x}{\\| x\\|}\\tag{5}$$\n",
    "\n",
    "Рассмотрим нормализацию путем деления векторов (строчек) данных на норму.\n",
    "Например, если $$x = \n",
    "\\begin{bmatrix}\n",
    "    0 & 3 & 4 \\\\\n",
    "    2 & 6 & 4 \\\\\n",
    "\\end{bmatrix}\\tag{6}$$ тогда норма$$\\| x\\| = np.linalg.norm(x, axis = 1, keepdims = True) = \\begin{bmatrix}\n",
    "    5 \\\\\n",
    "    \\sqrt{56} \\\\\n",
    "\\end{bmatrix}\\tag{7} $$и        $$ x\\_normalized = \\frac{x}{\\| x\\|} = \\begin{bmatrix}\n",
    "    0 & \\frac{3}{5} & \\frac{4}{5} \\\\\n",
    "    \\frac{2}{\\sqrt{56}} & \\frac{6}{\\sqrt{56}} & \\frac{4}{\\sqrt{56}} \\\\\n",
    "\\end{bmatrix}\\tag{8}$$ \n",
    "\n",
    "**Задание**: Реализуте функцию normalize() для масштабирования строк матрицы x. "
   ]
  },
  {
   "cell_type": "code",
   "execution_count": 40,
   "metadata": {
    "deletable": false,
    "id": "0gL0rYmC5wh1",
    "nbgrader": {
     "checksum": "9c0eaa54c3797533d49858053595328b",
     "grade": false,
     "grade_id": "normalize",
     "locked": false,
     "schema_version": 1,
     "solution": true
    }
   },
   "outputs": [],
   "source": [
    "import numpy as np\n",
    "def normalize(x):\n",
    "    norma = np.linalg.norm(x, axis = 1, keepdims =  True)\n",
    "    x = x/norma\n",
    "#    raise NotImplementedError()\n",
    "\n",
    "    return x"
   ]
  },
  {
   "cell_type": "code",
   "execution_count": 41,
   "metadata": {
    "deletable": false,
    "editable": false,
    "id": "t3bPl_V85wh1",
    "nbgrader": {
     "checksum": "1f054b02db3bdb03b50ab0a2d311b4dd",
     "grade": true,
     "grade_id": "correct_normalize",
     "locked": true,
     "points": 1,
     "schema_version": 1,
     "solution": false
    }
   },
   "outputs": [
    {
     "name": "stdout",
     "output_type": "stream",
     "text": [
      "normalize(x) = [[0.         0.6        0.8       ]\n",
      " [0.13736056 0.82416338 0.54944226]]\n"
     ]
    }
   ],
   "source": [
    "x = np.array([\n",
    "    [0, 3, 4],\n",
    "    [1, 6, 4]])\n",
    "res = normalize(x)\n",
    "print(\"normalize(x) = \" + str(res))\n",
    "assert res[0,1] == 0.6 \n",
    "assert round(res[1,1], 2) == 0.82\n",
    "assert res[0,2] == 0.8"
   ]
  },
  {
   "cell_type": "markdown",
   "metadata": {
    "id": "Tmwdfm7O5wh1"
   },
   "source": [
    "## 2. Векторизация"
   ]
  },
  {
   "cell_type": "markdown",
   "metadata": {
    "id": "MwM2hzkZ5wh1"
   },
   "source": [
    "В области глубокого обучения часто приходится работать с огромными массивами данных. Поэтому неоптимальная в вычислительном отношении функция может стать узким местом в вашем алгоритме и привести к существенному увеличению времени работы модели. Для написания эффективного в вычислительном отношении кода мы будем использовать *векторизацию*. \n",
    "\n",
    "**Задание:** Постарайтесь определить разницу между следующими функциями умножения матриц. Реализуйте по аналогии эти функции с помощью векторизированных функций Numpy. Сделайте вывод."
   ]
  },
  {
   "cell_type": "code",
   "execution_count": 4,
   "metadata": {
    "id": "D_vN77Th5wh1"
   },
   "outputs": [
    {
     "name": "stdout",
     "output_type": "stream",
     "text": [
      "dot = 256\n",
      " ----- Время вычисления = 0.0мс\n",
      "outer = [[36.  8. 12. 36.  0. 36.  8. 20.  0.  0. 12.  8. 20.  0.  4.]\n",
      " [18.  4.  6. 18.  0. 18.  4. 10.  0.  0.  6.  4. 10.  0.  2.]\n",
      " [45. 10. 15. 45.  0. 45. 10. 25.  0.  0. 15. 10. 25.  0.  5.]\n",
      " [63. 14. 21. 63.  0. 63. 14. 35.  0.  0. 21. 14. 35.  0.  7.]\n",
      " [ 0.  0.  0.  0.  0.  0.  0.  0.  0.  0.  0.  0.  0.  0.  0.]\n",
      " [72. 16. 24. 72.  0. 72. 16. 40.  0.  0. 24. 16. 40.  0.  8.]\n",
      " [45. 10. 15. 45.  0. 45. 10. 25.  0.  0. 15. 10. 25.  0.  5.]\n",
      " [ 0.  0.  0.  0.  0.  0.  0.  0.  0.  0.  0.  0.  0.  0.  0.]\n",
      " [63. 14. 21. 63.  0. 63. 14. 35.  0.  0. 21. 14. 35.  0.  7.]\n",
      " [ 0.  0.  0.  0.  0.  0.  0.  0.  0.  0.  0.  0.  0.  0.  0.]\n",
      " [81. 18. 27. 81.  0. 81. 18. 45.  0.  0. 27. 18. 45.  0.  9.]\n",
      " [18.  4.  6. 18.  0. 18.  4. 10.  0.  0.  6.  4. 10.  0.  2.]\n",
      " [45. 10. 15. 45.  0. 45. 10. 25.  0.  0. 15. 10. 25.  0.  5.]\n",
      " [ 9.  2.  3.  9.  0.  9.  2.  5.  0.  0.  3.  2.  5.  0.  1.]\n",
      " [ 0.  0.  0.  0.  0.  0.  0.  0.  0.  0.  0.  0.  0.  0.  0.]]\n",
      " ----- Время вычисления = 0.0мс\n",
      "elementwise multiplication = [36.  4. 15. 63.  0. 72. 10.  0.  0.  0. 27.  4. 25.  0.  0.]\n",
      " ----- Время вычисления = 0.0мс\n",
      "gdot = [33.73891561 34.92746455 35.58003522 22.93741637 26.12241341 18.72428371]\n",
      " ----- Время вычисления = 0.0мс\n"
     ]
    }
   ],
   "source": [
    "import time\n",
    "import numpy as np\n",
    "\n",
    "x1 = [4, 2, 5, 7, 0, 8, 5, 0, 7, 0, 9, 2, 5, 1, 0]\n",
    "x2 = [9, 2, 3, 9, 0, 9, 2, 5, 0, 0, 3, 2, 5, 0, 1]\n",
    "\n",
    "### Cкалярное произведение векторов ###\n",
    "tic = time.process_time()\n",
    "dot = 0\n",
    "for i in range(len(x1)):\n",
    "    dot+= x1[i]*x2[i]\n",
    "toc = time.process_time()\n",
    "print (\"dot = \" + str(dot) + \"\\n ----- Время вычисления = \" + str(1000*(toc - tic)) + \"мс\")\n",
    "\n",
    "### Внешнее произведение двух векторов ###\n",
    "tic = time.process_time()\n",
    "outer = np.zeros((len(x1),len(x2)))\n",
    "for i in range(len(x1)):\n",
    "    for j in range(len(x2)):\n",
    "        outer[i,j] = x1[i]*x2[j]\n",
    "toc = time.process_time()\n",
    "print (\"outer = \" + str(outer) + \"\\n ----- Время вычисления = \" + str(1000*(toc - tic)) + \"мс\")\n",
    "\n",
    "### Поэлементное уможение векторов ###\n",
    "tic = time.process_time()\n",
    "mul = np.zeros(len(x1))\n",
    "for i in range(len(x1)):\n",
    "    mul[i] = x1[i]*x2[i]\n",
    "toc = time.process_time()\n",
    "print (\"elementwise multiplication = \" + str(mul) + \"\\n ----- Время вычисления = \" + str(1000*(toc - tic)) + \"мс\")\n",
    "\n",
    "### Матричное умножение ###\n",
    "W = np.random.rand(6,len(x1))\n",
    "tic = time.process_time()\n",
    "gdot = np.zeros(W.shape[0])\n",
    "for i in range(W.shape[0]):\n",
    "    for j in range(len(x1)):\n",
    "        gdot[i] += W[i,j]*x1[j]\n",
    "toc = time.process_time()\n",
    "print (\"gdot = \" + str(gdot) + \"\\n ----- Время вычисления = \" + str(1000*(toc - tic)) + \"мс\")"
   ]
  },
  {
   "cell_type": "code",
   "execution_count": 54,
   "metadata": {
    "deletable": false,
    "id": "oeroiFfo5wh2",
    "nbgrader": {
     "checksum": "ba370bcb921ef15f6930c0de00864499",
     "grade": true,
     "grade_id": "numpy_functions",
     "locked": false,
     "points": 2,
     "schema_version": 1,
     "solution": true
    }
   },
   "outputs": [
    {
     "name": "stdout",
     "output_type": "stream",
     "text": [
      "dot = 256\n",
      " ----- Время вычисления = 0.0мс\n",
      "outer = [[36  8 12 36  0 36  8 20  0  0 12  8 20  0  4]\n",
      " [18  4  6 18  0 18  4 10  0  0  6  4 10  0  2]\n",
      " [45 10 15 45  0 45 10 25  0  0 15 10 25  0  5]\n",
      " [63 14 21 63  0 63 14 35  0  0 21 14 35  0  7]\n",
      " [ 0  0  0  0  0  0  0  0  0  0  0  0  0  0  0]\n",
      " [72 16 24 72  0 72 16 40  0  0 24 16 40  0  8]\n",
      " [45 10 15 45  0 45 10 25  0  0 15 10 25  0  5]\n",
      " [ 0  0  0  0  0  0  0  0  0  0  0  0  0  0  0]\n",
      " [63 14 21 63  0 63 14 35  0  0 21 14 35  0  7]\n",
      " [ 0  0  0  0  0  0  0  0  0  0  0  0  0  0  0]\n",
      " [81 18 27 81  0 81 18 45  0  0 27 18 45  0  9]\n",
      " [18  4  6 18  0 18  4 10  0  0  6  4 10  0  2]\n",
      " [45 10 15 45  0 45 10 25  0  0 15 10 25  0  5]\n",
      " [ 9  2  3  9  0  9  2  5  0  0  3  2  5  0  1]\n",
      " [ 0  0  0  0  0  0  0  0  0  0  0  0  0  0  0]]\n",
      " ----- Время вычисления = 0.0мс\n",
      "elementwise multiplication = [36  4 15 63  0 72 10  0  0  0 27  4 25  0  0]\n",
      " ----- Время вычисления = 0.0мс\n",
      "gdot = [31.786587   22.5878236  32.90602726 37.36947106 25.61275213 28.74479632]\n",
      " ----- Время вычисления = 0.0мс\n"
     ]
    }
   ],
   "source": [
    "import numpy as np\n",
    "import time\n",
    "x1 = np.array([4, 2, 5, 7, 0, 8, 5, 0, 7, 0, 9, 2, 5, 1, 0])\n",
    "x2 = np.array([9, 2, 3, 9, 0, 9, 2, 5, 0, 0, 3, 2, 5, 0, 1])\n",
    "\n",
    "### Cкалярное произведение векторов ###\n",
    "tic = time.process_time()\n",
    "dot = np.dot(x1, x2)\n",
    "toc = time.process_time()\n",
    "print (\"dot = \" + str(dot) + \"\\n ----- Время вычисления = \" + str(1000*(toc - tic)) + \"мс\")\n",
    "\n",
    "### Внешнее произведение двух векторов ###\n",
    "tic = time.process_time()\n",
    "outer = np.outer(x1,x2)\n",
    "toc = time.process_time()\n",
    "print (\"outer = \" + str(outer) + \"\\n ----- Время вычисления = \" + str(1000*(toc - tic)) + \"мс\")\n",
    "toc = time.process_time()\n",
    "\n",
    "### Поэлементное уможение векторов ###\n",
    "tic = time.process_time()\n",
    "mul = x1*x2\n",
    "toc = time.process_time()\n",
    "print (\"elementwise multiplication = \" + str(mul) + \"\\n ----- Время вычисления = \" + str(1000*(toc - tic)) + \"мс\")\n",
    "\n",
    "### Матричное умножение ###\n",
    "W = np.random.rand(6,len(x1))\n",
    "gdot = np.matmul(W,x1)\n",
    "toc = time.process_time()\n",
    "print (\"gdot = \" + str(gdot) + \"\\n ----- Время вычисления = \" + str(1000*(toc - tic)) + \"мс\")\n",
    "#raise NotImplementedError()"
   ]
  },
  {
   "cell_type": "markdown",
   "metadata": {
    "id": "FZLyXB665wh2"
   },
   "source": [
    "Задание: для закрепления полученных знаний о библиотеке numpy реализуйте с ее помощью выражения из файла \"Варианты.pdf\" согласно вашему варианту."
   ]
  },
  {
   "cell_type": "code",
   "execution_count": 11,
   "metadata": {
    "deletable": false,
    "id": "9JluJQqD5wh2",
    "nbgrader": {
     "checksum": "f0a5e181542d36c3a08d4dc70129867c",
     "grade": true,
     "grade_id": "first_eq",
     "locked": false,
     "points": 2,
     "schema_version": 1,
     "solution": true
    }
   },
   "outputs": [
    {
     "name": "stdout",
     "output_type": "stream",
     "text": [
      "Введите n\n",
      "2\n",
      "Введите x\n",
      "1\n",
      "2\n",
      "[1, 2]\n",
      "Введите y\n",
      "3\n",
      "4\n",
      "[3, 4]\n",
      "Введите z\n",
      "5\n",
      "6\n",
      "[5, 6]\n",
      "[1.40763295 1.27094833]\n"
     ]
    }
   ],
   "source": [
    "import numpy as np\n",
    "z = []\n",
    "y = []\n",
    "x = []\n",
    "print('Введите n')\n",
    "n = int(input())\n",
    "print('Введите x')\n",
    "for i in range(n):\n",
    "    x.append(int(input()))\n",
    "print(x)\n",
    "print('Введите y')\n",
    "for i in range(n):\n",
    "    y.append(int(input()))\n",
    "print(y)\n",
    "print('Введите z')\n",
    "for i in range(n):\n",
    "    z.append(int(input()))\n",
    "print(z)\n",
    "def b(x,y,z):\n",
    "    return (3 + np.exp(y-1))/(1 + x ** 2 * np.absolute(y - np.tan(z)))\n",
    "vb = np.vectorize(b)\n",
    "print(vb(x,y,z))\n",
    "#raise NotImplementedError()"
   ]
  },
  {
   "cell_type": "code",
   "execution_count": 1,
   "metadata": {
    "deletable": false,
    "id": "VEEksAix5wh2",
    "nbgrader": {
     "checksum": "89007eb1b6e5615c9c0e53724930ba0e",
     "grade": true,
     "grade_id": "sec_eq",
     "locked": false,
     "points": 3,
     "schema_version": 1,
     "solution": true
    }
   },
   "outputs": [
    {
     "name": "stdout",
     "output_type": "stream",
     "text": [
      "Введите n\n",
      "2\n",
      "Введите x\n",
      "1\n",
      "2\n",
      "[1, 2]\n",
      "Введите y\n",
      "2\n",
      "1\n",
      "[2, 1]\n",
      "[-2.84147098 18.14112001]\n"
     ]
    }
   ],
   "source": [
    "\n",
    "import numpy as np\n",
    "y = []\n",
    "x = []\n",
    "print('Введите n')\n",
    "n = int(input())\n",
    "print('Введите x')\n",
    "for i in range(n):\n",
    "    x.append(int(input()))\n",
    "print(x)\n",
    "print('Введите y')\n",
    "for i in range(n):\n",
    "    y.append(int(input()))\n",
    "print(y)\n",
    "def b(x,y):\n",
    "    if (y == 0):\n",
    "        return 0\n",
    "    else: \n",
    "        if (x == 0):\n",
    "            return abs(x ** 2 + y ** 0.5)\n",
    "        else:\n",
    "            if (x-y > 0):\n",
    "                return np.sin(x+y) + 2*(x+y) ** 2\n",
    "            else:\n",
    "                return np.sin(x-y) + 2*(x-y) ** 3\n",
    "vb = np.vectorize(b)\n",
    "print(vb(x,y))"
   ]
  },
  {
   "cell_type": "markdown",
   "metadata": {
    "id": "79GlSbnd5wh2"
   },
   "source": [
    "Контрольные вопросы:\n",
    "1. Описать работу формального нейрона?\n",
    "Поступает множество входных сигналов, которые имеют определенные значения веса в сумматор,\n",
    "который в свою очередь перемножает соотвествующие веса и сигналы и складывает. Итоговая сумма\n",
    "поступает в преобразователь, который реализует функцию активании. Основная задача обучения нейрона - \n",
    "подбор весов для получения желаемого значения функции активации.\n",
    "2. Что такое тензор. Какие бывают тензоры?\n",
    "Тензор - это контейнер чисел. Тензоры подразделяются на скаляры, векторы, матрицы, и тензоры высшего порядка\n",
    "Тензор определяется 3 ключевыми атрибутами: количество осей, форма(shape), тип данных тензора\n",
    "3. Что такое функция активации и какова ее задача?\n",
    "Функция активации - это функция одного аргумента, выходящая из преобразователя формального нейрона.\n",
    "Основная задача обучения нейрона - \n",
    "подбор весов для получения желаемого значения функции активации.\n",
    "4. Какие бывают функции активации? В чем их отличие друг от друга?\n",
    "Самые различные. Наиболее популярные - пороговая, линейная, лог-сигмоидная, гиперболический \n",
    "тангенс. Основное отличие - это разные требования к нейрону(разные графиик, области значений)\n",
    "5. Для чего необходимо рассчитывать производную функции активации?\n",
    "В основном для обучения нейронной сети, в частности - оптимизация функции качества оценки модели\n",
    "методом обратного распространения ошибки.\n",
    "6. Для чего нужно укладывание? Сформулируйте правило укладывания.\n",
    "Это способ выполнения арифметических операций над массивами разной формы. Для того, чтобы \n",
    "провести операцию укладывания необходимо, чтобы длины осей совпадали(таким образом подобрать ось \n",
    "или тензор для укладывания).\n",
    "7. Что представляет собой функцияи softmax?\n",
    "Функция Softmax — это обобщение логистической функции для многомерного случая. Функция преобразует \n",
    "вектор в другой вектор, содержащий значения в интервале от 0 до 1, а сумма координат веткора = 1.\n",
    "Softmax применяется в машинном обучении для задач классификации, когда количество возможных классов \n",
    "больше двух (для двух классов используется логистическая функция)\n",
    "8. Зачем нужна процедура нормализации? Какие существуют методы нормализации данных?\n",
    "Целью нормализации значений является преобразование данных к виду, который наиболее подходит для \n",
    "обработки, т.е. данные, поступающие на вход, должны иметь числовой тип, а их значения должны быть \n",
    "распределены в определенном диапазоне. Основные методы - это минимакс, Z-масштабирование, по но\n",
    "9. Зачем нужна процедура векторизации?\n",
    "Данная процедура необходима для работы с неограниченным количеством массивов или объектов."
   ]
  },
  {
   "cell_type": "code",
   "execution_count": null,
   "metadata": {},
   "outputs": [],
   "source": []
  },
  {
   "cell_type": "markdown",
   "metadata": {
    "id": "8yDRN5fi5wh2"
   },
   "source": [
    "<font color='blue'>\n",
    "Источники литературы для успешного выполнения лабораторной работы:\n",
    "<br>-  Шолле Ф.Глубокое обучение на Python / Ф. Шолле – СПб.: Питер, 2018.–\n",
    "400c.\n",
    "<br>- Маккини У. Python И анализ данных / пер. с анг. А.А. Слинкина. - М.: ДМК Пресс, 2020. - 540 с.: ил. [Лань: доступ через ЭБС НТБ]\n",
    "<br>- Спицын В.Г. Интеллектуальные системы: учебное пособие / В.Г. Спицын, Ю.Р. Цой; Томский политехнический университет. – Томск: Изд-во Томского политехнического университета, 2012. – 176 с."
   ]
  }
 ],
 "metadata": {
  "colab": {
   "collapsed_sections": [],
   "name": "Основы_Numpy.ipynb",
   "provenance": []
  },
  "coursera": {
   "course_slug": "neural-networks-deep-learning",
   "graded_item_id": "XHpfv",
   "launcher_item_id": "Zh0CU"
  },
  "kernelspec": {
   "display_name": "Python 3",
   "language": "python",
   "name": "python3"
  },
  "language_info": {
   "codemirror_mode": {
    "name": "ipython",
    "version": 3
   },
   "file_extension": ".py",
   "mimetype": "text/x-python",
   "name": "python",
   "nbconvert_exporter": "python",
   "pygments_lexer": "ipython3",
   "version": "3.8.8"
  },
  "varInspector": {
   "cols": {
    "lenName": 16,
    "lenType": 16,
    "lenVar": 40
   },
   "kernels_config": {
    "python": {
     "delete_cmd_postfix": "",
     "delete_cmd_prefix": "del ",
     "library": "var_list.py",
     "varRefreshCmd": "print(var_dic_list())"
    },
    "r": {
     "delete_cmd_postfix": ") ",
     "delete_cmd_prefix": "rm(",
     "library": "var_list.r",
     "varRefreshCmd": "cat(var_dic_list()) "
    }
   },
   "types_to_exclude": [
    "module",
    "function",
    "builtin_function_or_method",
    "instance",
    "_Feature"
   ],
   "window_display": false
  }
 },
 "nbformat": 4,
 "nbformat_minor": 1
}
